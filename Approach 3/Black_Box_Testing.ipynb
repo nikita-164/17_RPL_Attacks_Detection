{
  "nbformat": 4,
  "nbformat_minor": 0,
  "metadata": {
    "kernelspec": {
      "display_name": "Python 3",
      "language": "python",
      "name": "python3"
    },
    "language_info": {
      "codemirror_mode": {
        "name": "ipython",
        "version": 3
      },
      "file_extension": ".py",
      "mimetype": "text/x-python",
      "name": "python",
      "nbconvert_exporter": "python",
      "pygments_lexer": "ipython3",
      "version": "3.7.6"
    },
    "colab": {
      "name": "Random_Testing.ipynb",
      "provenance": [],
      "collapsed_sections": []
    }
  },
  "cells": [
    {
      "cell_type": "code",
      "metadata": {
        "id": "npjVm3CklZXY",
        "colab": {
          "base_uri": "https://localhost:8080/",
          "height": 255
        },
        "outputId": "5f7312fd-a8d4-4349-c3bc-aff7076479c3"
      },
      "source": [
        "from google.colab import drive\n",
        "drive.mount('/content/drive')\n",
        "\n",
        "import numpy as np\n",
        "import pandas as pd\n",
        "\n",
        "\n",
        "data=pd.read_csv(\"/content/drive/MyDrive/Dataset/result.csv\", encoding='utf-8-sig')\n",
        "data.head()"
      ],
      "execution_count": null,
      "outputs": [
        {
          "output_type": "stream",
          "name": "stdout",
          "text": [
            "Drive already mounted at /content/drive; to attempt to forcibly remount, call drive.mount(\"/content/drive\", force_remount=True).\n"
          ]
        },
        {
          "output_type": "execute_result",
          "data": {
            "text/html": [
              "<div>\n",
              "<style scoped>\n",
              "    .dataframe tbody tr th:only-of-type {\n",
              "        vertical-align: middle;\n",
              "    }\n",
              "\n",
              "    .dataframe tbody tr th {\n",
              "        vertical-align: top;\n",
              "    }\n",
              "\n",
              "    .dataframe thead th {\n",
              "        text-align: right;\n",
              "    }\n",
              "</style>\n",
              "<table border=\"1\" class=\"dataframe\">\n",
              "  <thead>\n",
              "    <tr style=\"text-align: right;\">\n",
              "      <th></th>\n",
              "      <th>No.</th>\n",
              "      <th>Time</th>\n",
              "      <th>Source</th>\n",
              "      <th>Destination</th>\n",
              "      <th>Length</th>\n",
              "      <th>Info</th>\n",
              "      <th>Transmission Rate (per 1000 ms)</th>\n",
              "      <th>Reception Rate (per 1000 ms)</th>\n",
              "      <th>TR / RR</th>\n",
              "      <th>Sources Count Per Sec</th>\n",
              "      <th>Destinations Count Per Sec</th>\n",
              "      <th>Trans Total Duration Per Sec</th>\n",
              "      <th>Rcv Total Duration Per Sec</th>\n",
              "      <th>Trans Average Per Sec</th>\n",
              "      <th>Rcv Average Per Sec</th>\n",
              "      <th>DAO</th>\n",
              "      <th>DIS</th>\n",
              "      <th>DIO</th>\n",
              "      <th>Label</th>\n",
              "    </tr>\n",
              "  </thead>\n",
              "  <tbody>\n",
              "    <tr>\n",
              "      <th>0</th>\n",
              "      <td>1</td>\n",
              "      <td>0.000000</td>\n",
              "      <td>2</td>\n",
              "      <td>9999</td>\n",
              "      <td>64</td>\n",
              "      <td>2</td>\n",
              "      <td>0.038</td>\n",
              "      <td>0.272</td>\n",
              "      <td>0.139706</td>\n",
              "      <td>38</td>\n",
              "      <td>272</td>\n",
              "      <td>0.107129</td>\n",
              "      <td>0.982099</td>\n",
              "      <td>0.002819</td>\n",
              "      <td>0.003611</td>\n",
              "      <td>0</td>\n",
              "      <td>38</td>\n",
              "      <td>0</td>\n",
              "      <td>0</td>\n",
              "    </tr>\n",
              "    <tr>\n",
              "      <th>1</th>\n",
              "      <td>2</td>\n",
              "      <td>0.003289</td>\n",
              "      <td>2</td>\n",
              "      <td>9999</td>\n",
              "      <td>64</td>\n",
              "      <td>2</td>\n",
              "      <td>0.038</td>\n",
              "      <td>0.272</td>\n",
              "      <td>0.139706</td>\n",
              "      <td>38</td>\n",
              "      <td>272</td>\n",
              "      <td>0.107129</td>\n",
              "      <td>0.982099</td>\n",
              "      <td>0.002819</td>\n",
              "      <td>0.003611</td>\n",
              "      <td>0</td>\n",
              "      <td>38</td>\n",
              "      <td>0</td>\n",
              "      <td>0</td>\n",
              "    </tr>\n",
              "    <tr>\n",
              "      <th>2</th>\n",
              "      <td>3</td>\n",
              "      <td>0.006556</td>\n",
              "      <td>2</td>\n",
              "      <td>9999</td>\n",
              "      <td>64</td>\n",
              "      <td>2</td>\n",
              "      <td>0.038</td>\n",
              "      <td>0.272</td>\n",
              "      <td>0.139706</td>\n",
              "      <td>38</td>\n",
              "      <td>272</td>\n",
              "      <td>0.107129</td>\n",
              "      <td>0.982099</td>\n",
              "      <td>0.002819</td>\n",
              "      <td>0.003611</td>\n",
              "      <td>0</td>\n",
              "      <td>38</td>\n",
              "      <td>0</td>\n",
              "      <td>0</td>\n",
              "    </tr>\n",
              "    <tr>\n",
              "      <th>3</th>\n",
              "      <td>4</td>\n",
              "      <td>0.009841</td>\n",
              "      <td>2</td>\n",
              "      <td>9999</td>\n",
              "      <td>64</td>\n",
              "      <td>2</td>\n",
              "      <td>0.038</td>\n",
              "      <td>0.272</td>\n",
              "      <td>0.139706</td>\n",
              "      <td>38</td>\n",
              "      <td>272</td>\n",
              "      <td>0.107129</td>\n",
              "      <td>0.982099</td>\n",
              "      <td>0.002819</td>\n",
              "      <td>0.003611</td>\n",
              "      <td>0</td>\n",
              "      <td>38</td>\n",
              "      <td>0</td>\n",
              "      <td>0</td>\n",
              "    </tr>\n",
              "    <tr>\n",
              "      <th>4</th>\n",
              "      <td>5</td>\n",
              "      <td>0.013110</td>\n",
              "      <td>2</td>\n",
              "      <td>9999</td>\n",
              "      <td>64</td>\n",
              "      <td>2</td>\n",
              "      <td>0.038</td>\n",
              "      <td>0.272</td>\n",
              "      <td>0.139706</td>\n",
              "      <td>38</td>\n",
              "      <td>272</td>\n",
              "      <td>0.107129</td>\n",
              "      <td>0.982099</td>\n",
              "      <td>0.002819</td>\n",
              "      <td>0.003611</td>\n",
              "      <td>0</td>\n",
              "      <td>38</td>\n",
              "      <td>0</td>\n",
              "      <td>0</td>\n",
              "    </tr>\n",
              "  </tbody>\n",
              "</table>\n",
              "</div>"
            ],
            "text/plain": [
              "   No.      Time  Source  Destination  ...  DAO  DIS  DIO  Label\n",
              "0    1  0.000000       2         9999  ...    0   38    0      0\n",
              "1    2  0.003289       2         9999  ...    0   38    0      0\n",
              "2    3  0.006556       2         9999  ...    0   38    0      0\n",
              "3    4  0.009841       2         9999  ...    0   38    0      0\n",
              "4    5  0.013110       2         9999  ...    0   38    0      0\n",
              "\n",
              "[5 rows x 19 columns]"
            ]
          },
          "metadata": {},
          "execution_count": 1
        }
      ]
    },
    {
      "cell_type": "code",
      "metadata": {
        "colab": {
          "base_uri": "https://localhost:8080/"
        },
        "id": "M1Qtg1XFmF48",
        "outputId": "9fa694a6-71dd-469d-86ed-3f46b82066ce"
      },
      "source": [
        "from collections import Counter\n",
        "from sklearn.datasets import make_classification\n",
        "from imblearn.under_sampling import NearMiss\n",
        "from matplotlib import pyplot\n",
        "from numpy import where\n",
        "\n",
        "data = data.drop( ['No.','Source', 'Destination', 'Time','Length', 'Sources Count Per Sec', 'Destinations Count Per Sec'],axis = 1)\n",
        "\n",
        "X_test = data.iloc[:, :-1]\n",
        "y_test= data.iloc[: , -1]\n",
        "print(X_test.head())\n",
        "print(y_test.head())\n"
      ],
      "execution_count": null,
      "outputs": [
        {
          "output_type": "stream",
          "name": "stdout",
          "text": [
            "   Info  Transmission Rate (per 1000 ms)  ...  DIS  DIO\n",
            "0     2                            0.038  ...   38    0\n",
            "1     2                            0.038  ...   38    0\n",
            "2     2                            0.038  ...   38    0\n",
            "3     2                            0.038  ...   38    0\n",
            "4     2                            0.038  ...   38    0\n",
            "\n",
            "[5 rows x 11 columns]\n",
            "0    0\n",
            "1    0\n",
            "2    0\n",
            "3    0\n",
            "4    0\n",
            "Name: Label, dtype: int64\n"
          ]
        },
        {
          "output_type": "stream",
          "name": "stderr",
          "text": [
            "/usr/local/lib/python3.7/dist-packages/sklearn/externals/six.py:31: FutureWarning: The module is deprecated in version 0.21 and will be removed in version 0.23 since we've dropped support for Python 2.7. Please rely on the official version of six (https://pypi.org/project/six/).\n",
            "  \"(https://pypi.org/project/six/).\", FutureWarning)\n",
            "/usr/local/lib/python3.7/dist-packages/sklearn/utils/deprecation.py:144: FutureWarning: The sklearn.neighbors.base module is  deprecated in version 0.22 and will be removed in version 0.24. The corresponding classes / functions should instead be imported from sklearn.neighbors. Anything that cannot be imported from sklearn.neighbors is now part of the private API.\n",
            "  warnings.warn(message, FutureWarning)\n"
          ]
        }
      ]
    },
    {
      "cell_type": "code",
      "metadata": {
        "id": "dyXa5uI9mgxs",
        "colab": {
          "base_uri": "https://localhost:8080/"
        },
        "outputId": "4787965c-950c-4920-a097-6f7d2fc37370"
      },
      "source": [
        "from sklearn.externals import joblib\n",
        "knn= joblib.load('/content/drive/MyDrive/Dataset/KNN_5.pkl')"
      ],
      "execution_count": null,
      "outputs": [
        {
          "output_type": "stream",
          "name": "stderr",
          "text": [
            "/usr/local/lib/python3.7/dist-packages/sklearn/externals/joblib/__init__.py:15: FutureWarning: sklearn.externals.joblib is deprecated in 0.21 and will be removed in 0.23. Please import this functionality directly from joblib, which can be installed with: pip install joblib. If this warning is raised when loading pickled models, you may need to re-serialize those models with scikit-learn 0.21+.\n",
            "  warnings.warn(msg, category=FutureWarning)\n"
          ]
        }
      ]
    },
    {
      "cell_type": "code",
      "metadata": {
        "colab": {
          "base_uri": "https://localhost:8080/"
        },
        "id": "nUs2XG9Xmwrc",
        "outputId": "61aefbc3-5110-4055-b0fc-4ee6d0bdf447"
      },
      "source": [
        "print(knn.score(X_test,y_test))"
      ],
      "execution_count": null,
      "outputs": [
        {
          "output_type": "stream",
          "name": "stdout",
          "text": [
            "0.976552106918516\n"
          ]
        }
      ]
    },
    {
      "cell_type": "code",
      "metadata": {
        "colab": {
          "base_uri": "https://localhost:8080/"
        },
        "id": "65MwBq8km8Iy",
        "outputId": "2fc4575e-8c3f-4d39-808a-19b9cb85d194"
      },
      "source": [
        "predictions= knn.predict(X_test)\n",
        "from sklearn.metrics import confusion_matrix\n",
        "confusion_matrix(y_test, predictions)\n",
        "\n"
      ],
      "execution_count": null,
      "outputs": [
        {
          "output_type": "execute_result",
          "data": {
            "text/plain": [
              "array([[  3040,      0,   1600],\n",
              "       [     0, 203140,     78],\n",
              "       [  3645,      0,  15511]])"
            ]
          },
          "metadata": {},
          "execution_count": 5
        }
      ]
    },
    {
      "cell_type": "code",
      "metadata": {
        "id": "FuAmNYR1gnXH"
      },
      "source": [
        ""
      ],
      "execution_count": null,
      "outputs": []
    }
  ]
}